{
 "cells": [
  {
   "cell_type": "code",
   "execution_count": 2,
   "metadata": {
    "pycharm": {
     "name": "#%%\n"
    }
   },
   "outputs": [],
   "source": [
    "import os\n",
    "import matplotlib.pyplot as plt\n",
    "import numpy as np\n",
    "import cv2\n",
    "from glob import glob"
   ]
  },
  {
   "cell_type": "markdown",
   "metadata": {
    "pycharm": {
     "name": "#%% md\n"
    }
   },
   "source": [
    "读取图像"
   ]
  },
  {
   "cell_type": "code",
   "execution_count": 1,
   "metadata": {
    "pycharm": {
     "name": "#%%\n"
    }
   },
   "outputs": [
    {
     "ename": "NameError",
     "evalue": "name 'glob' is not defined",
     "output_type": "error",
     "traceback": [
      "\u001B[1;31m---------------------------------------------------------------------------\u001B[0m",
      "\u001B[1;31mNameError\u001B[0m                                 Traceback (most recent call last)",
      "\u001B[1;32m~\\AppData\\Local\\Temp\\ipykernel_10476\\3809200651.py\u001B[0m in \u001B[0;36m<module>\u001B[1;34m\u001B[0m\n\u001B[0;32m      1\u001B[0m \u001B[1;31m#加载需要拼接的图片\u001B[0m\u001B[1;33m\u001B[0m\u001B[1;33m\u001B[0m\u001B[1;33m\u001B[0m\u001B[0m\n\u001B[0;32m      2\u001B[0m \u001B[0mimg_path\u001B[0m \u001B[1;33m=\u001B[0m \u001B[1;34m'photos'\u001B[0m\u001B[1;33m\u001B[0m\u001B[1;33m\u001B[0m\u001B[0m\n\u001B[1;32m----> 3\u001B[1;33m \u001B[0mimg_list\u001B[0m \u001B[1;33m=\u001B[0m \u001B[0mglob\u001B[0m\u001B[1;33m(\u001B[0m\u001B[0mos\u001B[0m\u001B[1;33m.\u001B[0m\u001B[0mpath\u001B[0m\u001B[1;33m.\u001B[0m\u001B[0mjoin\u001B[0m\u001B[1;33m(\u001B[0m\u001B[0mimg_path\u001B[0m\u001B[1;33m,\u001B[0m \u001B[1;34m'*.jpg'\u001B[0m\u001B[1;33m)\u001B[0m\u001B[1;33m)\u001B[0m\u001B[1;33m\u001B[0m\u001B[1;33m\u001B[0m\u001B[0m\n\u001B[0m\u001B[0;32m      4\u001B[0m \u001B[0mimg1\u001B[0m\u001B[1;33m,\u001B[0m \u001B[0mimg2\u001B[0m \u001B[1;33m=\u001B[0m \u001B[0mimg_list\u001B[0m\u001B[1;33m[\u001B[0m\u001B[1;36m6\u001B[0m\u001B[1;33m]\u001B[0m\u001B[1;33m,\u001B[0m \u001B[0mimg_list\u001B[0m\u001B[1;33m[\u001B[0m\u001B[1;36m7\u001B[0m\u001B[1;33m]\u001B[0m\u001B[1;33m\u001B[0m\u001B[1;33m\u001B[0m\u001B[0m\n\u001B[0;32m      5\u001B[0m \u001B[0mfig\u001B[0m\u001B[1;33m,\u001B[0m \u001B[0maxes\u001B[0m \u001B[1;33m=\u001B[0m \u001B[0mplt\u001B[0m\u001B[1;33m.\u001B[0m\u001B[0msubplots\u001B[0m\u001B[1;33m(\u001B[0m\u001B[0mnrows\u001B[0m\u001B[1;33m=\u001B[0m\u001B[1;36m1\u001B[0m\u001B[1;33m,\u001B[0m \u001B[0mncols\u001B[0m\u001B[1;33m=\u001B[0m\u001B[1;36m2\u001B[0m\u001B[1;33m,\u001B[0m \u001B[0mfigsize\u001B[0m\u001B[1;33m=\u001B[0m\u001B[1;33m(\u001B[0m\u001B[1;36m15\u001B[0m\u001B[1;33m,\u001B[0m\u001B[1;36m10\u001B[0m\u001B[1;33m)\u001B[0m\u001B[1;33m)\u001B[0m\u001B[1;33m\u001B[0m\u001B[1;33m\u001B[0m\u001B[0m\n",
      "\u001B[1;31mNameError\u001B[0m: name 'glob' is not defined"
     ]
    }
   ],
   "source": [
    "#加载需要拼接的图片\n",
    "img_path = 'photos'\n",
    "img_list = glob(os.path.join(img_path, '*.jpg'))\n",
    "img1, img2 = img_list[6], img_list[7]\n",
    "fig, axes = plt.subplots(nrows=1, ncols=2, figsize=(15,10))\n",
    "img1 = plt.imread(img1)\n",
    "img2 = plt.imread(img2)\n",
    "\n",
    "axes[0].imshow(img1)\n",
    "axes[1].imshow(img2)\n",
    "for ax in axes:\n",
    "    ax.set_xticks([])\n",
    "    ax.set_yticks([])\n",
    "plt.show()\n",
    "# img1 = cv2.imread(img1)\n",
    "# img2 = cv2.imread(img2)\n",
    "#图片尺寸较大，进行缩放\n",
    "# img1 = cv2.resize(img1, None, fx=0.25, fy=0.25)\n",
    "# img2 = cv2.resize(img2, None, fx=0.25, fy=0.25)"
   ]
  },
  {
   "cell_type": "code",
   "execution_count": 3,
   "metadata": {
    "pycharm": {
     "name": "#%%\n"
    }
   },
   "outputs": [],
   "source": [
    "\n",
    "#构造sift对象，计算图片的局部特征\n",
    "sift = cv2.SIFT_create()\n",
    "kp1, des1 = sift.detectAndCompute(img1, None)#关键点及特征\n",
    "kp2, des2 = sift.detectAndCompute(img2, None)\n",
    "kp1 = np.array([kp.pt for kp in kp1])\n",
    "kp2 = np.array([kp.pt for kp in kp2])"
   ]
  },
  {
   "cell_type": "code",
   "execution_count": null,
   "metadata": {
    "pycharm": {
     "name": "#%%\n",
     "is_executing": true
    }
   },
   "outputs": [],
   "source": [
    "ratio=0.75\n",
    "reprojThresh = 10.0\n",
    "matcher = cv2.BFMatcher()\n",
    "# 使用KNN检测来自A、B图的SIFT特征匹配对，K=2\n",
    "rawMatches = matcher.knnMatch(des1, des2, 2)\n",
    "matches = []\n",
    "for m in rawMatches:\n",
    "    # 当最近距离跟次近距离的比值小于ratio值时，保留此匹配对\n",
    "    if len(m) == 2 and m[0].distance < m[1].distance * ratio:\n",
    "    # 存储两个点在featuresA, featuresB中的索引值\n",
    "        matches.append((m[0].trainIdx, m[0].queryIdx))\n",
    "    # 当筛选后的匹配对大于4时，计算视角变换矩阵\n",
    "# if len(matches) > 4:\n",
    "#     # 获取匹配对的点坐标\n",
    "#     ptsA = np.float32([kp1[i] for (_, i) in matches])\n",
    "#     ptsB = np.float32([kp2[i] for (i, _) in matches])\n",
    "#     # 计算视角变换矩阵\n",
    "#     (H, status) = cv2.findHomography(ptsA, ptsB, cv2.RANSAC, reprojThresh)\n",
    "def compute_homography(pts_src, pts_dst):\n",
    "        # 构造线性方程组\n",
    "        # pts_src = normalize_points(pts_src)\n",
    "        # pts_dst = normalize_points(pts_dst)\n",
    "        n = pts_src.shape[0]\n",
    "        A = np.zeros((2*n, 9))\n",
    "        for i in range(n):\n",
    "            x, y = pts_src[i]\n",
    "            x_, y_ = pts_dst[i]\n",
    "            A[2*i] = [-x, -y, -1, 0, 0, 0, x*x_, y*x_, x_]\n",
    "            A[2*i+1] = [0, 0, 0, -x, -y, -1, x*y_, y*y_, y_]\n",
    "        # 使用 SVD 分解求解方程组\n",
    "        U, S, Vt = np.linalg.svd(A)\n",
    "        H = Vt[-1].reshape(3, 3)\n",
    "        return H / H[2, 2]\n",
    "ptsA = np.float32([kp1[i] for (_, i) in matches])\n",
    "ptsB = np.float32([kp2[i] for (i, _) in matches])\n",
    "H = compute_homography(ptsA, ptsB)"
   ]
  },
  {
   "cell_type": "code",
   "execution_count": null,
   "metadata": {
    "pycharm": {
     "name": "#%%\n",
     "is_executing": true
    }
   },
   "outputs": [],
   "source": [
    "result = cv2.warpPerspective(img1, H, (img1.shape[1] + img2.shape[1], img1.shape[0]))\n",
    "# result[0:img2.shape[0], 0:img2.shape[1]] = img2"
   ]
  },
  {
   "cell_type": "code",
   "execution_count": null,
   "metadata": {
    "pycharm": {
     "name": "#%%\n",
     "is_executing": true
    }
   },
   "outputs": [],
   "source": [
    "plt.figure(figsize=(15,10))\n",
    "plt.imshow(result)"
   ]
  },
  {
   "cell_type": "code",
   "execution_count": null,
   "metadata": {
    "pycharm": {
     "name": "#%%\n",
     "is_executing": true
    }
   },
   "outputs": [],
   "source": [
    "from PIL import Image\n",
    "img = Image.fromarray(result)\n",
    "# img.show()\n",
    "img.save('result.png')"
   ]
  },
  {
   "cell_type": "code",
   "execution_count": null,
   "outputs": [],
   "source": [],
   "metadata": {
    "collapsed": false,
    "pycharm": {
     "name": "#%%\n",
     "is_executing": true
    }
   }
  }
 ],
 "metadata": {
  "kernelspec": {
   "display_name": "Python 3 (ipykernel)",
   "language": "python",
   "name": "python3"
  },
  "language_info": {
   "codemirror_mode": {
    "name": "ipython",
    "version": 3
   },
   "file_extension": ".py",
   "mimetype": "text/x-python",
   "name": "python",
   "nbconvert_exporter": "python",
   "pygments_lexer": "ipython3",
   "version": "3.9.12"
  }
 },
 "nbformat": 4,
 "nbformat_minor": 1
}